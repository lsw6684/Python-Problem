{
 "cells": [
  {
   "cell_type": "code",
   "execution_count": 112,
   "id": "eb7f5af0",
   "metadata": {},
   "outputs": [
    {
     "name": "stdout",
     "output_type": "stream",
     "text": [
      "승원 : 129\n",
      "혁준 : 234\n",
      "동희 : 245\n",
      "형석 : 1391\n",
      "형진 : 47\n",
      "현수 : 72\n",
      "명현 : 16\n",
      "★★★ 2021년 3월 12일 금요일부터 말을 가장 많이 한 사람은 = \"형석이형\"입니다. ★★★\n"
     ]
    }
   ],
   "source": [
    "sw = 0\n",
    "hjoon = 0\n",
    "dh = 0\n",
    "hseok = 0\n",
    "hjean = 0\n",
    "hsoo = 0\n",
    "mh = 0\n",
    "\n",
    "\n",
    "with open('카톡.txt', 'r', encoding='UTF8') as f:\n",
    "    lines = f.readlines()\n",
    "    for line in lines:\n",
    "        name = line.split(' ')[0]\n",
    "        if name == '[이승원]':\n",
    "            sw += 1\n",
    "        elif name == '[박혁준형]':\n",
    "            hjoon += 1\n",
    "        elif name == '[윤동희형]':\n",
    "            dh += 1\n",
    "        elif name == '[이형석형]':\n",
    "            hseok += 1\n",
    "        elif name == '[이형진형(세명13)]':\n",
    "            hjean += 1\n",
    "        elif name == '[정현수형]':\n",
    "            hsoo += 1\n",
    "        elif name == '[지명현형(세명13)]':\n",
    "            mh += 1\n",
    "dic = {'승원' : sw\n",
    "        ,'혁준이형' : hjoon\n",
    "        ,'동희형' : dh\n",
    "        ,'형석이형' : hseok\n",
    "        ,'형진이형' : hjean\n",
    "        ,'현수형' : hsoo\n",
    "        ,'명현이형' : mh}\n",
    "tmp = max(dic.values())\n",
    "most = list(dic.keys())[list(dic.values()).index(tmp)]\n",
    "\n",
    "\n",
    "print( '승원 : {}'.format(sw))\n",
    "print( '혁준 : {}'.format(hjoon))\n",
    "print( '동희 : {}'.format(dh))\n",
    "print( '형석 : {}'.format(hseok))\n",
    "print( '형진 : {}'.format(hjean))\n",
    "print( '현수 : {}'.format(hsoo))\n",
    "print( '명현 : {}'.format(mh))\n",
    "print('★★★ 2021년 3월 12일 금요일부터 말을 가장 많이 한 사람은 = \"{}\"입니다. ★★★'.format(most))\n"
   ]
  },
  {
   "cell_type": "code",
   "execution_count": null,
   "id": "860519cd",
   "metadata": {},
   "outputs": [],
   "source": []
  }
 ],
 "metadata": {
  "kernelspec": {
   "display_name": "Python 3",
   "language": "python",
   "name": "python3"
  },
  "language_info": {
   "codemirror_mode": {
    "name": "ipython",
    "version": 3
   },
   "file_extension": ".py",
   "mimetype": "text/x-python",
   "name": "python",
   "nbconvert_exporter": "python",
   "pygments_lexer": "ipython3",
   "version": "3.8.8"
  }
 },
 "nbformat": 4,
 "nbformat_minor": 5
}
